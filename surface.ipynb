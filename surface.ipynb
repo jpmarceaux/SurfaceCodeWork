{
 "cells": [
  {
   "cell_type": "markdown",
   "id": "4e59779c",
   "metadata": {},
   "source": [
    "changed to markdown so that this code isn't run\n",
    "from qsurface.main import initialize, run\n",
    "%matplotlib tk\n",
    "\n",
    "code, decoder = initialize((6,6), \"planar\", \"mwpm\", enabled_errors=[\"pauli\"], faulty_measurements=True, plotting=True, initial_states=(0,0))\n",
    "run(code, decoder, iteration=10, error_rates = {\"p_bitflip\": 0.05, \"p_bitflip_plaq\": 0.05}, decode_initial=False)"
   ]
  },
  {
   "cell_type": "markdown",
   "id": "7ff3dd44",
   "metadata": {},
   "source": [
    "changed to markdown\n",
    "from qsurface.main import initialize, run\n",
    "code, decoder = initialize((6,6), \"toric\", \"mwpm\", enabled_errors=[\"pauli\"])\n",
    "run(code, decoder, iterations=10, error_rates = {\"p_bitflip\": 0.1})"
   ]
  },
  {
   "cell_type": "markdown",
   "id": "9f5a3cca",
   "metadata": {},
   "source": [
    "Notes for self:\n"
   ]
  },
  {
   "cell_type": "code",
   "execution_count": 1,
   "id": "1a536371",
   "metadata": {},
   "outputs": [],
   "source": [
    "from qsurface.errors.pauli import Sim as PauliSim\n",
    "from qsurface.codes.elements import DataQubit\n",
    "from qsurface.codes.elements import AncillaQubit\n",
    "from qsurface.codes.elements import Edge\n",
    "from qsurface.main import initialize"
   ]
  },
  {
   "cell_type": "code",
   "execution_count": 30,
   "id": "2d70360b",
   "metadata": {},
   "outputs": [],
   "source": [
    "error = PauliSim(p_bitflip = 0.05)"
   ]
  },
  {
   "cell_type": "code",
   "execution_count": 14,
   "id": "d17ee1ec",
   "metadata": {},
   "outputs": [],
   "source": [
    "dqubit = DataQubit((0,0))"
   ]
  },
  {
   "cell_type": "code",
   "execution_count": 32,
   "id": "aff9eabd",
   "metadata": {},
   "outputs": [],
   "source": [
    "ancilla_a = AncillaQubit((0,0.5), state_type = \"x\")\n",
    "ancilla_b = AncillaQubit((-0.5,0), state_type = \"z\")\n",
    "ancilla_c = AncillaQubit((0.5,0), state_type = \"z\")\n",
    "ancilla_d = AncillaQubit((0,-0.5), state_type = \"x\")"
   ]
  },
  {
   "cell_type": "code",
   "execution_count": 33,
   "id": "cdac488a",
   "metadata": {},
   "outputs": [],
   "source": [
    "# see entangle_pair under qsurface.codes._template\n",
    "\n",
    "ancilla_a.parity_qubits[(0,0)] = dqubit\n",
    "ancilla_b.parity_qubits[(0,0)] = dqubit\n",
    "ancilla_c.parity_qubits[(0,0)] = dqubit\n",
    "ancilla_d.parity_qubits[(0,0)] = dqubit\n",
    "\n",
    "x_edge = Edge(dqubit, state_type=\"x\", initial_state=False)\n",
    "z_edge = Edge(dqubit, state_type=\"z\", initial_state=False)\n",
    "\n",
    "dqubit.edges[\"x\"] = x_edge\n",
    "dqubit.edges[\"z\"] = z_edge\n",
    "\n",
    "x_edge.add_node(ancilla_a)\n",
    "x_edge.add_node(ancilla_d)\n",
    "z_edge.add_node(ancilla_b)\n",
    "z_edge.add_node(ancilla_c)"
   ]
  },
  {
   "cell_type": "code",
   "execution_count": 34,
   "id": "9fedf67c",
   "metadata": {},
   "outputs": [
    {
     "data": {
      "text/plain": [
       "{'x': False, 'z': False}"
      ]
     },
     "execution_count": 34,
     "metadata": {},
     "output_type": "execute_result"
    }
   ],
   "source": [
    "dqubit.state"
   ]
  },
  {
   "cell_type": "code",
   "execution_count": 35,
   "id": "cd390a41",
   "metadata": {},
   "outputs": [],
   "source": [
    "error.random_error(dqubit, p_bitflip=0, p_phaseflip=1)"
   ]
  },
  {
   "cell_type": "code",
   "execution_count": 38,
   "id": "be919cec",
   "metadata": {},
   "outputs": [
    {
     "data": {
      "text/plain": [
       "{'x': True, 'z': True}"
      ]
     },
     "execution_count": 38,
     "metadata": {},
     "output_type": "execute_result"
    }
   ],
   "source": [
    "dqubit.state"
   ]
  },
  {
   "cell_type": "code",
   "execution_count": 20,
   "id": "20421ae2",
   "metadata": {},
   "outputs": [
    {
     "data": {
      "text/plain": [
       "False"
      ]
     },
     "execution_count": 20,
     "metadata": {},
     "output_type": "execute_result"
    }
   ],
   "source": [
    "ancilla_a.measure()\n",
    "ancilla_b.measure()\n",
    "ancilla_c.measure()\n",
    "ancilla_d.measure()"
   ]
  },
  {
   "cell_type": "code",
   "execution_count": 21,
   "id": "36d13be1",
   "metadata": {},
   "outputs": [
    {
     "data": {
      "text/plain": [
       "False"
      ]
     },
     "execution_count": 21,
     "metadata": {},
     "output_type": "execute_result"
    }
   ],
   "source": [
    "ancilla_a.syndrome"
   ]
  },
  {
   "cell_type": "code",
   "execution_count": 22,
   "id": "0ba4c4f2",
   "metadata": {},
   "outputs": [
    {
     "data": {
      "text/plain": [
       "False"
      ]
     },
     "execution_count": 22,
     "metadata": {},
     "output_type": "execute_result"
    }
   ],
   "source": [
    "ancilla_d.syndrome"
   ]
  },
  {
   "cell_type": "code",
   "execution_count": 23,
   "id": "51034df6",
   "metadata": {},
   "outputs": [
    {
     "data": {
      "text/plain": [
       "True"
      ]
     },
     "execution_count": 23,
     "metadata": {},
     "output_type": "execute_result"
    }
   ],
   "source": [
    "ancilla_b.syndrome"
   ]
  },
  {
   "cell_type": "code",
   "execution_count": 24,
   "id": "44cf2597",
   "metadata": {},
   "outputs": [
    {
     "data": {
      "text/plain": [
       "True"
      ]
     },
     "execution_count": 24,
     "metadata": {},
     "output_type": "execute_result"
    }
   ],
   "source": [
    "ancilla_c.syndrome"
   ]
  },
  {
   "cell_type": "code",
   "execution_count": 11,
   "id": "dc86bd45",
   "metadata": {},
   "outputs": [],
   "source": [
    "code, decoder = initialize((6,6), \"planar\", \"mwpm\", enabled_errors=[\"pauli\"]) # can add ` \"p_bitflip\"="
   ]
  },
  {
   "cell_type": "code",
   "execution_count": 12,
   "id": "4d9598fb",
   "metadata": {},
   "outputs": [
    {
     "data": {
      "text/plain": [
       "{'x': 1, 'z': 0}"
      ]
     },
     "execution_count": 12,
     "metadata": {},
     "output_type": "execute_result"
    }
   ],
   "source": [
    "code.logical_state"
   ]
  },
  {
   "cell_type": "code",
   "execution_count": 13,
   "id": "34472660",
   "metadata": {},
   "outputs": [],
   "source": [
    "# with some adjustments, this could be changed to applying random errors\n",
    "def apply_surface_error(code, errors):\n",
    "    # errors is a dictionary with the qubit position as key and error type as value\n",
    "    # currently supported errors are Pauli (I, X, Y, or Z)\n",
    "    # currently only works on data qubits\n",
    "    # assumes qubits are on layer 0\n",
    "    for qubit_pos in errors.keys():\n",
    "        if errors[qubit_pos] == 'X':\n",
    "            code.errors['pauli'].bitflip(code.data_qubits[0][qubit_pos])\n",
    "        elif errors[qubit_pos] == 'Z':\n",
    "            code.errors['pauli'].phaseflip(code.data_qubits[0][qubit_pos])\n",
    "        elif errors[qubit_pos] == 'Y':\n",
    "            code.errors['pauli'].bitphaseflip(code.data_qubits[0][qubit_pos])\n",
    "    code.logical_state"
   ]
  },
  {
   "cell_type": "code",
   "execution_count": 17,
   "id": "a12e8e03",
   "metadata": {},
   "outputs": [],
   "source": [
    "error_dict = {(1.5, 0): \"X\"}"
   ]
  },
  {
   "cell_type": "code",
   "execution_count": 18,
   "id": "4ab6ad0a",
   "metadata": {},
   "outputs": [],
   "source": [
    "apply_surface_error(code, error_dict)"
   ]
  },
  {
   "cell_type": "code",
   "execution_count": 19,
   "id": "e8488dcb",
   "metadata": {},
   "outputs": [
    {
     "data": {
      "text/plain": [
       "{'x': 0, 'z': 0}"
      ]
     },
     "execution_count": 19,
     "metadata": {},
     "output_type": "execute_result"
    }
   ],
   "source": [
    "code.logical_state"
   ]
  },
  {
   "cell_type": "code",
   "execution_count": 20,
   "id": "70fc81fe",
   "metadata": {},
   "outputs": [
    {
     "data": {
      "text/plain": [
       "False"
      ]
     },
     "execution_count": 20,
     "metadata": {},
     "output_type": "execute_result"
    }
   ],
   "source": [
    "code.ancilla_qubits[0][(1,0)].syndrome"
   ]
  },
  {
   "cell_type": "markdown",
   "id": "85ced264",
   "metadata": {},
   "source": [
    "- get all syndromes\n",
    "- Tanner graph (slides reference)"
   ]
  }
 ],
 "metadata": {
  "kernelspec": {
   "display_name": "Python 3",
   "language": "python",
   "name": "python3"
  },
  "language_info": {
   "codemirror_mode": {
    "name": "ipython",
    "version": 3
   },
   "file_extension": ".py",
   "mimetype": "text/x-python",
   "name": "python",
   "nbconvert_exporter": "python",
   "pygments_lexer": "ipython3",
   "version": "3.8.3"
  }
 },
 "nbformat": 4,
 "nbformat_minor": 5
}
